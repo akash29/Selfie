{
 "cells": [
  {
   "cell_type": "code",
   "execution_count": 23,
   "metadata": {
    "collapsed": true
   },
   "outputs": [],
   "source": [
    "import numpy as np\n",
    "import pandas as pd\n",
    "import matplotlib.pyplot as plt\n",
    "import sys\n",
    "import os,errno\n",
    "import math\n",
    "import random\n",
    "import shutil"
   ]
  },
  {
   "cell_type": "code",
   "execution_count": 29,
   "metadata": {
    "collapsed": true
   },
   "outputs": [],
   "source": [
    "np.random.seed = 10\n",
    "random.seed = 100"
   ]
  },
  {
   "cell_type": "code",
   "execution_count": 2,
   "metadata": {
    "collapsed": false
   },
   "outputs": [
    {
     "name": "stdout",
     "output_type": "stream",
     "text": [
      "(46836, 2)\n"
     ]
    }
   ],
   "source": [
    "df_y = pd.read_csv('Selfie-dataset/selfie_dataset.txt',sep=\"\\s+\",header=None,usecols=[0,3],names=['name','sex'])\n",
    "print(df_y.shape)"
   ]
  },
  {
   "cell_type": "code",
   "execution_count": 4,
   "metadata": {
    "collapsed": false
   },
   "outputs": [
    {
     "name": "stdout",
     "output_type": "stream",
     "text": [
      "Total samples 46836\n",
      "Total training samples 42152\n",
      "Total test samples 4684\n"
     ]
    }
   ],
   "source": [
    "num_samples = df_y.shape[0]\n",
    "num_train = math.floor(num_samples*0.9)\n",
    "num_test = num_samples - num_train\n",
    "print(\"Total samples\", num_samples)\n",
    "print(\"Total training samples\", num_train)\n",
    "print(\"Total test samples\", num_test)"
   ]
  },
  {
   "cell_type": "code",
   "execution_count": 36,
   "metadata": {
    "collapsed": false
   },
   "outputs": [
    {
     "name": "stdout",
     "output_type": "stream",
     "text": [
      "00a454da495e11e28a7322000a1fa414_6.jpg\n",
      "46836\n"
     ]
    }
   ],
   "source": [
    "## shuffle the contents of the directory and split them in train and test folders\n",
    "files = [i for i in os.listdir('Selfie-dataset/images/')]\n",
    "print(files[0])\n",
    "print(len(files))\n",
    "np.random.shuffle(files)\n",
    "try:\n",
    "    os.mkdir('Selfie-dataset/images/Train')\n",
    "    os.mkdir('Selfie-dataset/images/Test')\n",
    "except OSError as e:\n",
    "    if e.errno != errno.EEXIST:\n",
    "        raise\n",
    "for i,j in enumerate(files):\n",
    "    if i <= num_train:\n",
    "        shutil.move(os.path.join('Selfie-dataset/images/',j), os.path.join('Selfie-dataset/images/Train/',j))\n",
    "    else:\n",
    "        shutil.move(os.path.join('Selfie-dataset/images/',j), os.path.join('Selfie-dataset/images/Test/',j))"
   ]
  },
  {
   "cell_type": "code",
   "execution_count": 52,
   "metadata": {
    "collapsed": false
   },
   "outputs": [],
   "source": [
    "train_name = [i[:-4] for i in os.listdir('Selfie-dataset/images/Train/')]\n",
    "test_name = [i[:-4] for i in os.listdir('Selfie-dataset/images/Test/')]\n",
    "y_train_df = df_y[df_y['name'].isin(train_name)]\n",
    "y_test_df = df_y[df_y['name'].isin(test_name)]"
   ]
  },
  {
   "cell_type": "code",
   "execution_count": 56,
   "metadata": {
    "collapsed": false,
    "scrolled": false
   },
   "outputs": [
    {
     "name": "stdout",
     "output_type": "stream",
     "text": [
      "y_train_shape (42153, 2)\n",
      "y_test_shape (4683, 2)\n",
      "100th train file name name    10004126_244002322450107_1223819319_a\n",
      "sex                                         1\n",
      "Name: 112, dtype: object\n",
      "100th test file name name    10005526_625500830878042_699529605_a\n",
      "sex                                        1\n",
      "Name: 992, dtype: object\n"
     ]
    }
   ],
   "source": [
    "##some validation\n",
    "print(\"y_train_shape\", y_train_df.shape)\n",
    "print(\"y_test_shape\",y_test_df.shape)\n",
    "print(\"100th train file name\", y_train_df.iloc[100])\n",
    "print(\"100th test file name\", y_test_df.iloc[100])"
   ]
  },
  {
   "cell_type": "code",
   "execution_count": null,
   "metadata": {
    "collapsed": true
   },
   "outputs": [],
   "source": []
  }
 ],
 "metadata": {
  "kernelspec": {
   "display_name": "Python 3",
   "language": "python",
   "name": "python3"
  },
  "language_info": {
   "codemirror_mode": {
    "name": "ipython",
    "version": 3
   },
   "file_extension": ".py",
   "mimetype": "text/x-python",
   "name": "python",
   "nbconvert_exporter": "python",
   "pygments_lexer": "ipython3",
   "version": "3.6.0"
  }
 },
 "nbformat": 4,
 "nbformat_minor": 2
}
