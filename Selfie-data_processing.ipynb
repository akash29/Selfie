{
 "cells": [
  {
   "cell_type": "code",
   "execution_count": 4,
   "metadata": {
    "collapsed": true
   },
   "outputs": [],
   "source": [
    "import numpy as np\n",
    "import pandas as pd\n",
    "import matplotlib.pyplot as plt\n",
    "import sys\n",
    "import os,errno\n",
    "import math\n",
    "import random\n",
    "import shutil"
   ]
  },
  {
   "cell_type": "code",
   "execution_count": 5,
   "metadata": {
    "collapsed": true
   },
   "outputs": [],
   "source": [
    "np.random.seed = 10\n",
    "random.seed = 100"
   ]
  },
  {
   "cell_type": "code",
   "execution_count": 6,
   "metadata": {
    "collapsed": false
   },
   "outputs": [
    {
     "name": "stdout",
     "output_type": "stream",
     "text": [
      "(46836, 2)\n"
     ]
    }
   ],
   "source": [
    "df_y = pd.read_csv('../Selfie-dataset/selfie_dataset.txt',sep=\"\\s+\",header=None,usecols=[0,3],names=['name','sex'])\n",
    "print(df_y.shape)"
   ]
  },
  {
   "cell_type": "code",
   "execution_count": 7,
   "metadata": {
    "collapsed": false
   },
   "outputs": [
    {
     "name": "stdout",
     "output_type": "stream",
     "text": [
      "Total samples 46836\n",
      "Total training samples 42152\n",
      "Total test samples 4684\n"
     ]
    }
   ],
   "source": [
    "num_samples = df_y.shape[0]\n",
    "num_train = math.floor(num_samples*0.9)\n",
    "num_test = num_samples - num_train\n",
    "print(\"Total samples\", num_samples)\n",
    "print(\"Total training samples\", num_train)\n",
    "print(\"Total test samples\", num_test)"
   ]
  },
  {
   "cell_type": "code",
   "execution_count": 9,
   "metadata": {
    "collapsed": false
   },
   "outputs": [
    {
     "name": "stdout",
     "output_type": "stream",
     "text": [
      "Augmentation\n",
      "3\n"
     ]
    }
   ],
   "source": [
    "## shuffle the contents of the directory and split them in train and test folders\n",
    "files = [i for i in os.listdir('../Selfie-dataset/images/')]\n",
    "print(files[0])\n",
    "print(len(files))\n",
    "np.random.shuffle(files)\n",
    "try:\n",
    "    os.mkdir('../Selfie-dataset/images/Train')\n",
    "    os.mkdir('../Selfie-dataset/images/Test')\n",
    "    for i,j in enumerate(files):\n",
    "        if i <= num_train:\n",
    "            shutil.move(os.path.join('../Selfie-dataset/images/',j), os.path.join('../Selfie-dataset/images/Train/',j))\n",
    "        else:\n",
    "            shutil.move(os.path.join('../Selfie-dataset/images/',j), os.path.join('../Selfie-dataset/images/Test/',j))\n",
    "except OSError as e:\n",
    "    if e.errno != errno.EEXIST:\n",
    "        raise\n"
   ]
  },
  {
   "cell_type": "code",
   "execution_count": 10,
   "metadata": {
    "collapsed": false
   },
   "outputs": [],
   "source": [
    "train_name = [i[:-4] for i in os.listdir('../Selfie-dataset/images/Train/')]\n",
    "test_name = [i[:-4] for i in os.listdir('../Selfie-dataset/images/Test/')]\n",
    "y_train_df = df_y[df_y['name'].isin(train_name)]\n",
    "y_test_df = df_y[df_y['name'].isin(test_name)]"
   ]
  },
  {
   "cell_type": "code",
   "execution_count": 11,
   "metadata": {
    "collapsed": false,
    "scrolled": false
   },
   "outputs": [
    {
     "name": "stdout",
     "output_type": "stream",
     "text": [
      "y_train_shape (42153, 2)\n",
      "y_test_shape (4683, 2)\n",
      "100th train file name name    10004126_244002322450107_1223819319_a\n",
      "sex                                         1\n",
      "Name: 112, dtype: object\n",
      "100th test file name name    10005526_625500830878042_699529605_a\n",
      "sex                                        1\n",
      "Name: 992, dtype: object\n"
     ]
    }
   ],
   "source": [
    "##some validation\n",
    "print(\"y_train_shape\", y_train_df.shape)\n",
    "print(\"y_test_shape\",y_test_df.shape)\n",
    "print(\"100th train file name\", y_train_df.iloc[100])\n",
    "print(\"100th test file name\", y_test_df.iloc[100])"
   ]
  },
  {
   "cell_type": "code",
   "execution_count": 27,
   "metadata": {
    "collapsed": false
   },
   "outputs": [],
   "source": [
    "import tensorflow as tf\n",
    "from tensorflow.contrib.data import Dataset, Iterator\n",
    "from tensorflow.python.framework.ops import convert_to_tensor\n",
    "from tensorflow.python.framework import dtypes\n",
    "tf.set_random_seed(100)"
   ]
  },
  {
   "cell_type": "code",
   "execution_count": 18,
   "metadata": {
    "collapsed": false
   },
   "outputs": [],
   "source": [
    "train_images = [os.path.abspath(os.path.join(os.sep,'Selfie-dataset/images/Train/',i)) for i in os.listdir('../Selfie-dataset/images/Train/')]\n",
    "test_images = [os.path.abspath(os.path.join(os.sep,'Selfie-dataset/images/Test/',i)) for i in os.listdir('../Selfie-dataset/images/Test/')]\n"
   ]
  },
  {
   "cell_type": "code",
   "execution_count": 17,
   "metadata": {
    "collapsed": false
   },
   "outputs": [
    {
     "data": {
      "text/plain": [
       "['D:\\\\Selfie-dataset\\\\images\\\\Train\\\\00a454da495e11e28a7322000a1fa414_6.jpg',\n",
       " 'D:\\\\Selfie-dataset\\\\images\\\\Train\\\\00cddb96ac4c11e3a30212279ba1b65f_6.jpg']"
      ]
     },
     "execution_count": 17,
     "metadata": {},
     "output_type": "execute_result"
    }
   ],
   "source": [
    "train_images[:2]"
   ]
  },
  {
   "cell_type": "code",
   "execution_count": 20,
   "metadata": {
    "collapsed": false
   },
   "outputs": [],
   "source": [
    "train_images_tf = convert_to_tensor(train_images,dtype=tf.string)\n",
    "test_images_tf = convert_to_tensor(test_images,dtype=tf.string)"
   ]
  },
  {
   "cell_type": "code",
   "execution_count": 25,
   "metadata": {
    "collapsed": false
   },
   "outputs": [],
   "source": [
    "train_labels_tf = convert_to_tensor(list(y_train_df['sex']),dtype=dtypes.int32)\n",
    "test_labels_tf = convert_to_tensor(list(y_test_df['sex']),dtype = dtypes.int32)"
   ]
  },
  {
   "cell_type": "code",
   "execution_count": 26,
   "metadata": {
    "collapsed": true
   },
   "outputs": [],
   "source": [
    "train_data = Dataset.from_tensor_slices((train_images_tf,train_labels_tf))\n",
    "test_data  = Dataset.from_tensor_slices((test_images_tf,test_labels_tf))\n"
   ]
  },
  {
   "cell_type": "code",
   "execution_count": 30,
   "metadata": {
    "collapsed": true
   },
   "outputs": [],
   "source": [
    "NUM_CLASSES = 2\n",
    "IMAGE_SIZE = 300\n",
    "def distort_img_train(img_file, labels):\n",
    "    one_hot_labels = tf.one_hot(labels,NUM_CLASSES)\n",
    "    img_str = tf.read_file(img_file)\n",
    "    img_decode = tf.image.decode_jpeg(img,channels=3)\n",
    "    img_resize = tf.image.resize_image_with_crop_or_pad(img_decode,target_height=IMAGE_SIZE,target_width=IMAGE_SIZE)\n",
    "    distort_img = tf.image.random_flip_left_right(img_resize,seed=tf.set_random_seed(10))\n",
    "    img = tf.image.random_brightness(distort_img,max_delta=2.0,seed=10)\n",
    "    img_std = tf.image.per_image_standardization(img)\n",
    "    \n",
    "    return img_std,one_hot_labels\n",
    "    \n",
    "    "
   ]
  },
  {
   "cell_type": "code",
   "execution_count": 29,
   "metadata": {
    "collapsed": true
   },
   "outputs": [],
   "source": [
    "def distort_img_test(img_file, labels):\n",
    "    one_hot_labels = tf.one_hot(labels,NUM_CLASSES)\n",
    "    img_str = tf.read_file(img_file)\n",
    "    img_decode = tf.image.decode_jpeg(img,channels=3)\n",
    "    img_resize = tf.image.resize_image_with_crop_or_pad(img_decode,target_height=IMAGE_SIZE,target_width=IMAGE_SIZE)\n",
    "    img_std = tf.image.per_image_standardization(img_resize)\n",
    "    \n",
    "    return img_std,one_hot_labels"
   ]
  },
  {
   "cell_type": "code",
   "execution_count": 31,
   "metadata": {
    "collapsed": true
   },
   "outputs": [],
   "source": [
    "def get_data(batch_size,is_train_data = True,num_threads = 6):\n",
    "    if is_train_data:\n",
    "        data = train_data.map(distort_img_train,num_threads=num_threads)\n",
    "    else:\n",
    "        data = test_data.map(distort_img_test, num_threads = num_threads)\n",
    "    data = data.batch(batch_size)\n",
    "    return data"
   ]
  },
  {
   "cell_type": "code",
   "execution_count": null,
   "metadata": {
    "collapsed": true
   },
   "outputs": [],
   "source": []
  }
 ],
 "metadata": {
  "kernelspec": {
   "display_name": "Python 3",
   "language": "python",
   "name": "python3"
  },
  "language_info": {
   "codemirror_mode": {
    "name": "ipython",
    "version": 3
   },
   "file_extension": ".py",
   "mimetype": "text/x-python",
   "name": "python",
   "nbconvert_exporter": "python",
   "pygments_lexer": "ipython3",
   "version": "3.6.0"
  }
 },
 "nbformat": 4,
 "nbformat_minor": 2
}
