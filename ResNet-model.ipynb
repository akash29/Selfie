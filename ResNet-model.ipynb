{
 "cells": [
  {
   "cell_type": "code",
   "execution_count": 4,
   "metadata": {
    "collapsed": true
   },
   "outputs": [],
   "source": [
    "import numpy as np\n",
    "import tensorflow as tf\n",
    "import matplotlib.pyplot as plt"
   ]
  },
  {
   "cell_type": "code",
   "execution_count": 8,
   "metadata": {
    "collapsed": true
   },
   "outputs": [],
   "source": [
    "tf.set_random_seed(0)"
   ]
  },
  {
   "cell_type": "code",
   "execution_count": 7,
   "metadata": {
    "collapsed": false
   },
   "outputs": [],
   "source": [
    "def identity_block(X,f,filters,stage,block):\n",
    "    conv_name_base = 'res'+str(stage)+block\n",
    "    bn_name_base = 'bn'+str(stage)+block\n",
    "    \n",
    "    F1,F2,F3 = filters\n",
    "    \n",
    "    shortcut_input = X\n",
    "    \n",
    "    X = tf.layers.conv2d(X,filters=F1,kernel_size=(1,1),strides=(1,1),padding='valid',name=conv_name_base+'2a'\n",
    "                         ,kernel_initializer=tf.contrib.layers.xavier_initializer_conv2d(seed=0))\n",
    "    X = tf.layers.batch_normalization(X,axis=3,name=bn_name_base+'2a')\n",
    "    \n",
    "    X = tf.nn.relu(X)\n",
    "    \n",
    "    X = tf.layers.conv2d(X,filters=F2,kernel_size=(f,f),strides=(1,1),padding='same',name=conv_name_base+'2b'\n",
    "                        ,kernel_initializer=tf.contrib.layers.xavier_initializer_conv2d(seed=0))\n",
    "    \n",
    "    X = tf.layers.batch_normalization(X,axis=3,name=bn_name_base+'2b')\n",
    "    \n",
    "    X = tf.nn.relu(X)\n",
    "    \n",
    "    X = tf.layers.conv2d(X,filters=F3,kernel_size=(1,1),strides=(1,1),padding='valid',name=conv_name_base+'2c'\n",
    "                        ,kernel_initializer=tf.contrib.layers.xavier_initializer_conv2d(seed=0))\n",
    "    \n",
    "    X = tf.layers.batch_normalization(X,axis=3,name=bn_name_base+'2c')\n",
    "    \n",
    "    add_block = tf.add(shortcut_input,X)\n",
    "    \n",
    "    X = tf.nn.relu(add_block)\n",
    "    \n",
    "    return X\n",
    "    \n",
    "    "
   ]
  },
  {
   "cell_type": "code",
   "execution_count": 12,
   "metadata": {
    "collapsed": false
   },
   "outputs": [],
   "source": [
    "def convolution_block(X,f,filters,s,stage,block):\n",
    "    conv_name_base = 'res'+str(stage)+block\n",
    "    bn_name_base = 'bn'+str(stage)+block\n",
    "    \n",
    "    F1,F2,F3 = filters\n",
    "    \n",
    "    short_input = X\n",
    "    \n",
    "    X= tf.layers.conv2d(X,filters=F1,kernel_size=(1,1),strides=(s,s),padding='valid',name=conv_name_base+'2a'\n",
    "                        ,kernel_initializer=tf.contrib.layers.xavier_initializer_conv2d(seed=0))\n",
    "    X = tf.layers.batch_normalization(X,axis=3,name=bn_name_base+'2a')\n",
    "    X = tf.nn.relu(X)\n",
    "    \n",
    "    X= tf.layers.conv2d(X,filters=F1,kernel_size=(f,f),strides=(1,1),padding='same',name=conv_name_base+'2b'\n",
    "                       ,kernel_initializer=tf.contrib.layers.xavier_initializer_conv2d(seed=0))\n",
    "    X = tf.layers.batch_normalization(X,axis=3,name=bn_name_base+'2b')\n",
    "    X = tf.nn.relu(X)\n",
    "    \n",
    "    X= tf.layers.conv2d(X,filters=F1,kernel_size=(1,1),strides=(1,1),padding='valid',name=conv_name_base+'2c'\n",
    "                       ,kernel_initializer=tf.contrib.layers.xavier_initializer_conv2d(seed=0))\n",
    "    X = tf.layers.batch_normalization(X,axis=3,name=bn_name_base+'2c')\n",
    "    \n",
    "    shortcut_X = tf.layers.conv2d(short_input,filters=F3,kernel_size=(1,1),strides=(s,s),padding='valid',name=conv_name_base+'1'\n",
    "                                 ,kernel_initializer=tf.contrib.layers.xavier_initializer_conv2d(seed=0))\n",
    "    shortcut_X = tf.layers.batch_normalization(shortcut_X,axis=3,name=bn_name_base+'1')\n",
    "    \n",
    "    add_block = tf.add(shortcut_X,X)\n",
    "    \n",
    "    X = tf.nn.relu(add_block)\n",
    "    \n",
    "    return X\n",
    "    "
   ]
  },
  {
   "cell_type": "code",
   "execution_count": null,
   "metadata": {
    "collapsed": true
   },
   "outputs": [],
   "source": [
    "def resNet_50(X):\n",
    "    \n",
    "    ##implement zero padding here\n",
    "    \n",
    "    #stage_1\n",
    "    X = tf.layers.conv2d(X,filters=64,kernel_size=(7,7),stride=(2,2),name='conv1')\n",
    "    X = tf.layers.batch_normalization(X,axis=3,name='batch_norm1')\n",
    "    X = tf.nn.relu(X)\n",
    "    X = tf.layers.max_pooling2d(X,strides=(2,2),pool_size=(3,3))\n",
    "    \n",
    "    #stage_2\n",
    "    X = convolution_block(X,f=3,s=1,filters=[64,64,256],stage=2,block='a')\n",
    "    X = identity_block(X,filters=[64,64,256],stage=2,f=3,block='b')\n",
    "    X = identity_block(X,filters=[64,64,256],stage=2,f=3,block='c')\n",
    "    \n",
    "    #stage_3\n",
    "    X = convolution_block(X,f=3,s=2,filters=[128,128,512],stage=3,block='a')\n",
    "    X = identity_block(X,filters=[128,128,512],stage=3,f=3,block='b')\n",
    "    X = identity_block(X,filters=[128,128,512],stage=3,f=3,block='c')\n",
    "    X = identity_block(X,filters=[128,128,512],stage=3,f=3,block='d')\n",
    "    \n",
    "    #stage_4\n",
    "    X = convolution_block(X,f=3,s=2,filters=[256,256,1024],stage=4,block='a')\n",
    "    X = identity_block(X,filters=[256,256,1024],stage=4,f=3,block='b')\n",
    "    X = identity_block(X,filters=[256,256,1024],stage=4,f=3,block='c')\n",
    "    X = identity_block(X,filters=[256,256,1024],stage=4,f=3,block='d')\n",
    "    X = identity_block(X,filters=[256,256,1024],stage=4,f=3,block='e')\n",
    "    X = identity_block(X,filters=[256,256,1024],stage=4,f=3,block='f')\n",
    "    \n",
    "    #stage_5\n",
    "    X = convolution_block(X,f=3,s=2,filters=[512,512,2048],stage=5,block='a')\n",
    "    X = identity_block(X,filters=[512,512,2048],stage=5,f=3,block='b')\n",
    "    X = identity_block(X,filters=[512,512,2048],stage=5,f=3,block='c')\n",
    "    \n",
    "    X = tf.layers.average_pooling2d(X,pool_size=(2,2),strides=(1,1),name='avg_pool')\n",
    "    X = tf.layers.flatten(X,name='flatten')\n",
    "    X = tf.layers.dense(X,units=2,activation=tf.nn.softmax(),\n",
    "                        kernel_regularizer=tf.contrib.layers.l2_regularizer(),\n",
    "                        kernel_initializer=tf.contrib.layers.xavier_initializer(seed=0))\n",
    "    \n",
    "    "
   ]
  }
 ],
 "metadata": {
  "kernelspec": {
   "display_name": "Python 3",
   "language": "python",
   "name": "python3"
  },
  "language_info": {
   "codemirror_mode": {
    "name": "ipython",
    "version": 3
   },
   "file_extension": ".py",
   "mimetype": "text/x-python",
   "name": "python",
   "nbconvert_exporter": "python",
   "pygments_lexer": "ipython3",
   "version": "3.6.0"
  }
 },
 "nbformat": 4,
 "nbformat_minor": 2
}
